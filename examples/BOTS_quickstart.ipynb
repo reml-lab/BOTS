{
  "cells": [
    {
      "cell_type": "markdown",
      "metadata": {
        "id": "AaT0sgVkr8PI"
      },
      "source": [
        "# BOTS quickstart\n",
        "\n",
        "# <a href=\"https://colab.research.google.com/github/reml-lab/bots/blob/main/examples/BOTS_quickstart.ipynb\" target=\"_parent\"><img src=\"https://colab.research.google.com/assets/colab-badge.svg\" alt=\"Open In Colab\"/></a>\n",
        "\n",
        "This is an official notebook for the paper **BOTS: Batch Bayesian Optimization of Extended Thompson Sampling for Severely Episode-Limited RL Settings**, Karine and Marlin, 2024. This paper was accepted at NeurIPS 2024 Workshop on Bayesian Decision-making and Uncertainty 2024.\n",
        "\n",
        "**Paper and poster links**:\n",
        "+ [arXiv link](https://arxiv.org/pdf/2412.00308)\n",
        "+ [paper link](https://github.com/reml-lab/bots/tree/main/BOTS_paper.pdf)\n",
        "+ [poster](https://github.com/reml-lab/bots/tree/main/BOTS_poster.pdf)\n",
        "\n",
        "**Paper abstract**:\n",
        "In settings where the application of reinforcement learning (RL) requires running real-world trials, including the optimization of adaptive health interventions, the number of episodes available for learning can be severely limited due to cost or time constraints. In this setting, the bias-variance trade-off of contextual bandit methods can be significantly better than that of more complex full RL methods. However, Thompson sampling bandits are limited to selecting actions based on distributions of immediate rewards. In this paper, we extend the linear Thompson sampling bandit to select actions based on a state-action utility function consisting of the Thompson sampler's estimate of the expected immediate reward combined with an action bias term. We use batch Bayesian optimization over episodes to learn the action bias terms with the goal of maximizing the expected return of the extended Thompson sampler. The proposed approach is able to learn optimal policies for a strictly broader class of Markov decision processes (MDPs) than standard Thompson sampling. Using an adaptive intervention simulation environment that captures key aspects of behavioral dynamics, we show that the proposed method can significantly out-perform standard Thompson sampling in terms of total return, while requiring significantly fewer episodes than standard value function and policy gradient methods.\n",
        "\n",
        "**This notebook**: we describe how to use BOTS."
      ]
    },
    {
      "cell_type": "markdown",
      "metadata": {
        "id": "FyxNgoqHumAD"
      },
      "source": [
        "# Initialize Code"
      ]
    },
    {
      "cell_type": "code",
      "execution_count": 18,
      "metadata": {
        "id": "Ey_F96-LOvld"
      },
      "outputs": [],
      "source": [
        "!pip install batchBOTS"
      ]
    },
    {
      "cell_type": "code",
      "source": [
        "!pip install botorch > a_botorch.log"
      ],
      "metadata": {
        "id": "d_usY2QOk23m"
      },
      "execution_count": 10,
      "outputs": []
    },
    {
      "cell_type": "code",
      "source": [
        "import botorch\n",
        "import warnings\n",
        "warnings.filterwarnings(\"ignore\")\n",
        "# botorch version = 0.15.1 as of Aug 25 2025\n",
        "botorch.__version__"
      ],
      "metadata": {
        "id": "doviQEnlIaLd",
        "colab": {
          "base_uri": "https://localhost:8080/",
          "height": 36
        },
        "outputId": "c6440a1c-9937-4c8d-8645-5bd7732beed7"
      },
      "execution_count": 11,
      "outputs": [
        {
          "output_type": "execute_result",
          "data": {
            "text/plain": [
              "'0.15.1'"
            ],
            "application/vnd.google.colaboratory.intrinsic+json": {
              "type": "string"
            }
          },
          "metadata": {},
          "execution_count": 11
        }
      ]
    },
    {
      "cell_type": "code",
      "execution_count": 12,
      "metadata": {
        "id": "o4zedRFX8rq1"
      },
      "outputs": [],
      "source": [
        "import numpy as np\n",
        "import pandas as pd\n",
        "import torch\n",
        "import timeit\n",
        "import os\n",
        "from BOTS.agents import ThompsonSamplingBayesLRAgent\n",
        "from BOTS.batch_agents import BatchAgentTS, BatchAgentBO\n",
        "from BOTS.experiments import generate_seeds, create_B_schedule, create_env_list, plot_batch_results\n",
        "from BOTS.utils import get_x_bounds, set_random_seed"
      ]
    },
    {
      "cell_type": "markdown",
      "source": [
        "# Code to run experiments"
      ],
      "metadata": {
        "id": "soRpxpSBxQul"
      }
    },
    {
      "cell_type": "code",
      "execution_count": 13,
      "metadata": {
        "id": "3p6HjnoZIKmC"
      },
      "outputs": [],
      "source": [
        "def create_agent(chosen_agent_name, chosen_BO_PARAMS, matrix_seeds_agent, B_schedule, trial, b_update_TS_priors):\n",
        "  \"\"\"Create and return a new agent with given settings.\"\"\"\n",
        "  # base TS agent settings\n",
        "  TS_agent_settings = default_TS_settings.copy()\n",
        "  TS_agent_settings['chosen_obs_names'] = CHOSEN_OBS_NAMES\n",
        "  TS_agent_settings['n_actions'] = N_ARMS\n",
        "  TS_agent_settings['bo_params'] = None\n",
        "  TS_agent_settings['beta_coeffs'] = None\n",
        "\n",
        "  if (chosen_agent_name.find('TS') >= 0) and (chosen_agent_name.find('BO') < 0):\n",
        "    # Thompson Sampling agent\n",
        "    if (chosen_agent_name == 'TS') or (chosen_agent_name == 'TS_prior'):\n",
        "      # TS = uninformative prior; TS_prior = informative prior\n",
        "      TS_agent_settings['bo_params'] = 'NOT USED'\n",
        "      TS_agent_settings['beta_coeffs'] = None\n",
        "    else:\n",
        "      assert(1==2), f'error TS agent_name = {agent_name} does not exist in create_agents()!'\n",
        "    new_seeds = matrix_seeds_agent[trial][:][:]\n",
        "    new_agent = BatchAgentTS(chosen_agent_name, new_seeds, B_schedule, TS_agent_settings)\n",
        "\n",
        "    if b_update_TS_priors:\n",
        "      # initialize priors\n",
        "      mean_values = np_TS_mean\n",
        "      cov_matrix  = np_TS_cov\n",
        "      for agent_i in range(len(new_agent.agents)):\n",
        "        for arm in range(N_ARMS):\n",
        "          new_agent.agents[agent_i].prior_coeff_mu_b[arm]      = mean_values[arm][0]\n",
        "          new_agent.agents[agent_i].prior_coeff_mu_w[arm]      = mean_values[arm][1:]\n",
        "          new_agent.agents[agent_i].prior_coeff_sigma[arm]     = cov_matrix[arm]\n",
        "          new_agent.agents[agent_i].post_coeff_mu_dict[arm]    = mean_values[arm]\n",
        "          new_agent.agents[agent_i].post_coeff_sigma_dict[arm] = cov_matrix[arm]\n",
        "\n",
        "  elif (chosen_agent_name.find('BO') >= 0) or (chosen_agent_name.find('Sobol') >= 0):\n",
        "    # Bayesian Optimization agent\n",
        "    BO_default_TS_settings = TS_agent_settings.copy()\n",
        "    BO_default_TS_settings['bo_params'] = chosen_BO_PARAMS\n",
        "    BO_agent_settings = {}\n",
        "    BO_agent_settings['default_TS_settings'] = BO_default_TS_settings\n",
        "    BO_agent_settings['dtype'] = dtype\n",
        "    BO_agent_settings['device'] = device\n",
        "    BO_agent_settings['trial'] = trial\n",
        "    BO_agent_settings['x_dim'] = x_dim\n",
        "    BO_agent_settings['x_bounds'] = x_bounds\n",
        "    BO_agent_settings['x_bounds_NORMALIZED'] = x_bounds_NORMALIZED\n",
        "    BO_agent_settings['num_restarts'] = NUM_RESTARTS\n",
        "    BO_agent_settings['raw_samples'] = RAW_SAMPLES\n",
        "    new_seeds = matrix_seeds_agent[trial][:][:]\n",
        "    new_agent = BatchAgentBO(chosen_agent_name, new_seeds, B_schedule, BO_agent_settings, n_candidates_for_TS=256)\n",
        "  else:\n",
        "    # invalid agent name\n",
        "    assert(1==2), f'error agent_name = {agent_name} does not exist in create_agents()!'\n",
        "\n",
        "  return new_agent\n",
        "\n",
        "\n",
        "def run_trial(chosen_agent_name, chosen_BO_PARAMS, matrix_seeds_agent, matrix_seeds_env, trial, ROUNDS, B_schedule, STEPS,\n",
        "              results, actions_all, lengths_all, disengagement_all, betas_all, info_dict,\n",
        "              np_TS_mean, np_TS_cov, b_train=True):\n",
        "  \"\"\"Run one trial across multiple rounds with the chosen agent.\"\"\"\n",
        "  # Run one trial across multiple rounds\n",
        "  b_update_TS_priors = False\n",
        "  if chosen_BO_PARAMS is not None:\n",
        "    if chosen_BO_PARAMS in ['betas3', 'betas3 sigmaYs1', 'betas3 sigmaYs4']:\n",
        "      b_update_TS_priors = True\n",
        "  else:\n",
        "    if chosen_agent_name == 'TS_prior':\n",
        "      b_update_TS_priors = True\n",
        "\n",
        "  if b_update_TS_priors and b_version_B:\n",
        "    # Dataframe to store new data for updating priors\n",
        "    column_names = ['batch', 'step'] + CHOSEN_OBS_NAMES + ['action', 'reward', 'done']\n",
        "    df_new = pd.DataFrame(columns=column_names)\n",
        "\n",
        "  # create agent\n",
        "  new_agent = create_agent(chosen_agent_name, chosen_BO_PARAMS, matrix_seeds_agent, B_schedule, trial, b_update_TS_priors)\n",
        "\n",
        "  if b_update_TS_priors:\n",
        "    # initialize TS priors at round 0\n",
        "    mean_values = np_TS_mean\n",
        "    cov_matrix  = np_TS_cov\n",
        "\n",
        "  FIRST_ROUND_BO = 1 if b_update_TS_priors else 0\n",
        "\n",
        "  for round in range(FIRST_ROUND_BO, ROUNDS):\n",
        "    if b_update_TS_priors and b_version_B:\n",
        "      COUNT_df_new = 0  # reset counter\n",
        "    start_round_timer = timeit.default_timer()\n",
        "    chosen_BATCH_SIZE = int(B_schedule[round])\n",
        "\n",
        "    # create batch of environments\n",
        "    env_list = create_env_list(seeds_env=matrix_seeds_env, trial=trial, chosen_round=round, batch_size=chosen_BATCH_SIZE,\n",
        "                               chosen_n_version=CHOSEN_n_version, chosen_obs_names=CHOSEN_OBS_NAMES,\n",
        "                               CHOSEN_δh=CHOSEN_δh, CHOSEN_εh=CHOSEN_εh, CHOSEN_δd=CHOSEN_δd, CHOSEN_εd=CHOSEN_εd,\n",
        "                               chosen_sigma=CHOSEN_env_sigma, D_threshold=D_threshold)\n",
        "\n",
        "    if b_update_TS_priors:\n",
        "      # update priors at start of round\n",
        "      for agent_i in range(len(new_agent.agents)):\n",
        "        for arm in range(N_ARMS):\n",
        "          new_agent.agents[agent_i].prior_coeff_mu_b[arm]      = mean_values[arm][0]\n",
        "          new_agent.agents[agent_i].prior_coeff_mu_w[arm]      = mean_values[arm][1:]\n",
        "          new_agent.agents[agent_i].prior_coeff_sigma[arm]     = cov_matrix[arm]\n",
        "          new_agent.agents[agent_i].post_coeff_mu_dict[arm]    = mean_values[arm]\n",
        "          new_agent.agents[agent_i].post_coeff_sigma_dict[arm] = cov_matrix[arm]\n",
        "\n",
        "        if chosen_BO_PARAMS is not None:\n",
        "          # store beta values\n",
        "          betas_all[trial,round,agent_i] = new_agent.agents[agent_i].beta_coeffs.detach().numpy()\n",
        "\n",
        "    # initialize batch state\n",
        "    done_list = [False] * chosen_BATCH_SIZE\n",
        "    obs_list = [None] * chosen_BATCH_SIZE\n",
        "    for batch in range(chosen_BATCH_SIZE):\n",
        "      obs_list[batch], NOT_USED = env_list[batch].reset()\n",
        "    rewards_all = np.empty((chosen_BATCH_SIZE, STEPS)); rewards_all[:] = np.nan\n",
        "\n",
        "    for step in range(STEPS):\n",
        "      for batch in range(chosen_BATCH_SIZE):\n",
        "\n",
        "        # record trial-round-batch-step info\n",
        "        info_dict['trial'] = trial\n",
        "        info_dict['r'] = round\n",
        "        info_dict['b'] = batch\n",
        "        info_dict['s'] = step\n",
        "        new_agent.info_dict = info_dict\n",
        "\n",
        "        if not done_list[batch]:\n",
        "          # get values before action\n",
        "          C_value = env_list[batch].get_C()\n",
        "          L_value = env_list[batch].get_L()\n",
        "          P_value = env_list[batch].get_P()\n",
        "          H_value = env_list[batch].get_H()\n",
        "          D_value = env_list[batch].get_D()\n",
        "\n",
        "          # agent picks action\n",
        "          action = new_agent.choose_action(obs_list[batch], batch)\n",
        "          obs_, reward, done, NOT_USED, info = env_list[batch].step(action)\n",
        "\n",
        "          # update agent\n",
        "          rewards_all[batch][step] = reward\n",
        "          new_agent.update_batch(b_train, info_dict, obs_list[batch], action, reward, obs_, done, batch)\n",
        "          done_list[batch] = done\n",
        "          obs_list[batch] = obs_\n",
        "\n",
        "          if b_update_TS_priors and b_version_B:\n",
        "            # save data for MRT prior update\n",
        "            row_data = []\n",
        "            for var_name in CHOSEN_OBS_NAMES:\n",
        "              if var_name == 'C': row_data.append(C_value)\n",
        "              if var_name == 'L': row_data.append(L_value)\n",
        "              if var_name == 'P': row_data.append(P_value)\n",
        "              if var_name == 'H': row_data.append(H_value)\n",
        "              if var_name == 'D': row_data.append(D_value)\n",
        "            df_new.loc[len(df_new)] = [int(batch), int(step)]+row_data+[int(action), reward, int(done)]\n",
        "            COUNT_df_new += 1\n",
        "\n",
        "          if chosen_BO_PARAMS == 'betas3':\n",
        "            # store extra info for betas3 plots\n",
        "            actions_all[trial,round,batch,step] = action\n",
        "            lengths_all[trial,round,batch,step] = 1\n",
        "            disengagement_all[trial,round,batch,step] = env_list[batch].get_D()\n",
        "\n",
        "      # end step updates\n",
        "      new_agent.update_step(b_train, step)\n",
        "      if np.all(done_list):\n",
        "        break\n",
        "\n",
        "    # compute round reward\n",
        "    results[trial][round] = np.nansum(np.nansum(rewards_all, axis=-1), axis=-1)\n",
        "    new_agent.update_round(b_train, info_dict, STEPS, round)\n",
        "\n",
        "    if b_update_TS_priors and b_version_B:\n",
        "      # compute new TS priors from MRT data\n",
        "      if round > FIRST_ROUND_BO:\n",
        "        df_new['batch']  = df_new['batch'].astype(int)\n",
        "        df_new['step']   = df_new['step'].astype(int)\n",
        "        df_new['action'] = df_new['action'].astype(int)\n",
        "        df_new['done']   = df_new['done'].astype(int)\n",
        "        for var_name in CHOSEN_OBS_NAMES:\n",
        "          if var_name == 'C': df_new[var_name] = df_new[var_name].astype(int)\n",
        "          if var_name == 'L': df_new[var_name] = df_new[var_name].astype(int)\n",
        "          if var_name == 'A': df_new[var_name] = df_new[var_name].astype(int)\n",
        "          if var_name == 'B': df_new[var_name] = df_new[var_name].astype(int)\n",
        "\n",
        "        str_info = f't{trial} r{round}'\n",
        "        if round > FIRST_ROUND_BO+1:\n",
        "          NOT_USED, np_TS_mean, np_TS_cov = get_new_TS_priors_using_MRT(\n",
        "              b_new_MRT=False, df_all=df_MRT, b_insert_new_data=True, df_new=df_new, str_info=str_info)\n",
        "          mean_values = np_TS_mean\n",
        "          cov_matrix  = np_TS_cov\n",
        "\n",
        "    # log round time\n",
        "    duration_round = timeit.default_timer() - start_round_timer\n",
        "    minutes_round = int(duration_round//60); seconds_round = int(duration_round - minutes_round*60.)\n",
        "    if (round == 0) or (round == 1) or (round % max(1,(ROUNDS//5)) == 0):\n",
        "      env_seeds_display = [env_list[b_index].seed for b_index in range(chosen_BATCH_SIZE)]\n",
        "      return_so_far = results[trial][round]\n",
        "\n",
        "  return results, actions_all, lengths_all, disengagement_all, betas_all, info_dict\n",
        "\n",
        "\n",
        "def run_experiment(chosen_agent_name, chosen_BO_PARAMS, chosen_TRIALS, chosen_ROUNDS, chosen_BATCH_SIZE, chosen_STEPS, chosen_N_MRT, chosen_N_INIT, chosen_n_version, chosen_obs_names, b_update_stdout,\n",
        "                   np_TS_mean, np_TS_cov):\n",
        "  \"\"\"Run a full experiment (all trials and rounds).\"\"\"\n",
        "  str_TRB = 'T{} R{} B{}'.format(chosen_TRIALS, chosen_ROUNDS, chosen_BATCH_SIZE)\n",
        "  info_dict = {'TRB':str_TRB, 'ROUNDS':chosen_ROUNDS}\n",
        "  print(f'running {chosen_agent_name} experiments (trials={chosen_TRIALS} TRB={str_TRB})...')\n",
        "\n",
        "  # generate seeds and batch schedule\n",
        "  matrix_seeds_agent, matrix_seeds_env = generate_seeds(chosen_TRIALS, chosen_ROUNDS, chosen_BATCH_SIZE, chosen_N_INIT, init_seed=0)\n",
        "  B_schedule = create_B_schedule(chosen_ROUNDS, chosen_BATCH_SIZE, chosen_N_MRT, chosen_N_INIT)\n",
        "\n",
        "  # allocate storage\n",
        "  results = np.empty((chosen_TRIALS, chosen_ROUNDS)); results[:] = np.nan\n",
        "  actions_all = None; lengths_all = None; disengagement_all = None; betas_all = None\n",
        "  if chosen_BO_PARAMS is not None:\n",
        "    if chosen_BO_PARAMS.find('betas') >= 0:\n",
        "      actions_all = np.empty((chosen_TRIALS, chosen_ROUNDS, max(chosen_BATCH_SIZE, chosen_N_INIT), chosen_STEPS, 1))\n",
        "      lengths_all = np.empty((chosen_TRIALS, chosen_ROUNDS, max(chosen_BATCH_SIZE, chosen_N_INIT), chosen_STEPS, 1))\n",
        "      disengagement_all = np.empty((chosen_TRIALS, chosen_ROUNDS, max(chosen_BATCH_SIZE, chosen_N_INIT), chosen_STEPS, 1))\n",
        "      betas_all = np.empty((chosen_TRIALS, chosen_ROUNDS, max(chosen_BATCH_SIZE, chosen_N_INIT), x_dim))\n",
        "      actions_all[:] = np.nan; lengths_all[:] = np.nan; disengagement_all[:] = np.nan; betas_all[:] = np.nan\n",
        "\n",
        "  for trial in range(chosen_TRIALS):\n",
        "    # run one trial\n",
        "    start_trial = timeit.default_timer()\n",
        "    set_random_seed(trial)\n",
        "\n",
        "    results, actions_all, lengths_all, disengagement_all, betas_all, info_dict = run_trial(\n",
        "        chosen_agent_name, chosen_BO_PARAMS, matrix_seeds_agent, matrix_seeds_env, trial, chosen_ROUNDS, B_schedule, chosen_STEPS,\n",
        "        results, actions_all, lengths_all, disengagement_all, betas_all, info_dict,\n",
        "        np_TS_mean, np_TS_cov)\n",
        "\n",
        "    # log timing\n",
        "    duration_trial = timeit.default_timer() - start_trial\n",
        "    minutes_trial = int(duration_trial//60); seconds_trial = int(duration_trial - minutes_trial*60.)\n",
        "    trial_message = f'finished {chosen_agent_name} {\"\".join(chosen_obs_names)} env{chosen_n_version} ({BO_PARAMS}) trial{trial} duration = {duration_trial:.1f} sec'\n",
        "    print(trial_message)\n",
        "\n",
        "  def shorten_str(str_input): return str(str_input).replace('.','_').replace(' ','')\n",
        "  # save outputs\n",
        "  if chosen_BO_PARAMS is None:\n",
        "    outfile = output_folder + '/npz_RL_{}'.format(shorten_str(output_detail)) + '_{}.npz'.format(chosen_agent_name)\n",
        "  else:\n",
        "    outfile = output_folder + '/npz_BO_{}_{}'.format(chosen_BO_PARAMS.replace(' ',''), shorten_str(output_detail)) + '_{}.npz'.format(chosen_agent_name)\n",
        "  np.savez(outfile, result_y_train_divide_by_batch = results,\n",
        "                    betas_all = betas_all, actions_all=actions_all, lengths_all=lengths_all)\n",
        "  return results, B_schedule\n"
      ]
    },
    {
      "cell_type": "markdown",
      "source": [
        "# Code to run MRT"
      ],
      "metadata": {
        "id": "MzaLUijs2Gsl"
      }
    },
    {
      "cell_type": "code",
      "source": [
        "def get_new_TS_priors_using_MRT(b_new_MRT, df_all, b_insert_new_data, df_new=None, str_info='init'):\n",
        "  \"\"\"Run MRT experiment to collect data, update Bayesian Linear Regression\n",
        "  priors for Thompson Sampling, and return updated priors (mean, cov).\"\"\"\n",
        "  if b_new_MRT:\n",
        "    # MRT setup\n",
        "    chosen_trials = 1; chosen_rounds = 1; chosen_batch_size = N_MRT\n",
        "    str_TRB = 'T{} R{} B{}'.format(chosen_trials, chosen_rounds, chosen_batch_size)\n",
        "    info_dict = {'TRB':str_TRB, 'ROUNDS':chosen_rounds}\n",
        "\n",
        "    # seeds and schedule\n",
        "    matrix_seeds_agent, matrix_seeds_env = generate_seeds(chosen_trials, chosen_rounds, chosen_batch_size, N_MRT, init_seed=0)\n",
        "    B_schedule_MRT = create_B_schedule(2, None, chosen_batch_size, 0)\n",
        "\n",
        "    print('{} start MRT experiment {} N_MRT={} {}...'.format(str_info, str_TRB, N_MRT, ''.join(CHOSEN_OBS_NAMES)))\n",
        "\n",
        "    # init arrays\n",
        "    Xs = np.empty((chosen_trials, chosen_rounds, max(B_schedule_MRT), STEPS)); Xs[:] = np.nan\n",
        "    Hs = np.empty_like(Xs); Ds = np.empty_like(Xs)\n",
        "    df_dict = {}\n",
        "\n",
        "    # run trials/rounds\n",
        "    for trial_MRT in range(chosen_trials):\n",
        "      set_random_seed(trial_MRT)\n",
        "      for round_MRT in range(chosen_rounds):\n",
        "        str_df_key = 't{} r{}'.format(trial_MRT, round_MRT)\n",
        "        cols = ['batch','step']+CHOSEN_OBS_NAMES+['action','reward','done']\n",
        "        df_dict[str_df_key] = pd.DataFrame(columns=cols)\n",
        "\n",
        "        chosen_BATCH_SIZE = int(B_schedule_MRT[round_MRT])\n",
        "\n",
        "        # create envs\n",
        "        env_list = create_env_list(\n",
        "            seeds_env=matrix_seeds_env, trial=trial_MRT, chosen_round=round_MRT, batch_size=chosen_BATCH_SIZE,\n",
        "            chosen_n_version=CHOSEN_n_version, chosen_obs_names=CHOSEN_OBS_NAMES,\n",
        "            CHOSEN_δh=CHOSEN_δh, CHOSEN_εh=CHOSEN_εh, CHOSEN_δd=CHOSEN_δd, CHOSEN_εd=CHOSEN_εd,\n",
        "            chosen_sigma=CHOSEN_env_sigma, D_threshold=D_threshold)\n",
        "\n",
        "        done_list = [False]*chosen_BATCH_SIZE\n",
        "        obs_list  = [env.reset()[0] for env in env_list]\n",
        "\n",
        "        # rollout steps\n",
        "        for step_MRT in range(STEPS):\n",
        "          for batch_MRT in range(chosen_BATCH_SIZE):\n",
        "            info_dict.update({'trial':trial_MRT,'r':round_MRT,'b':batch_MRT,'s':step_MRT})\n",
        "\n",
        "            if not done_list[batch_MRT]:\n",
        "              # record obs\n",
        "              C_value = env_list[batch_MRT].get_C()\n",
        "              L_value = env_list[batch_MRT].get_L()\n",
        "              P_value = env_list[batch_MRT].get_P()\n",
        "              H_value = env_list[batch_MRT].get_H()\n",
        "              D_value = env_list[batch_MRT].get_D()\n",
        "\n",
        "              # random action\n",
        "              action = np.random.choice(N_ARMS)\n",
        "              obs_, reward, done, _, info = env_list[batch_MRT].step(action)\n",
        "\n",
        "              done_list[batch_MRT] = done\n",
        "              obs_list[batch_MRT] = obs_\n",
        "\n",
        "              # build row\n",
        "              row_data = []\n",
        "              for var in CHOSEN_OBS_NAMES:\n",
        "                if var == 'C': row_data.append(C_value)\n",
        "                if var == 'L': row_data.append(L_value)\n",
        "                if var == 'P': row_data.append(P_value)\n",
        "                if var == 'H': row_data.append(H_value)\n",
        "                if var == 'D': row_data.append(D_value)\n",
        "\n",
        "              df_dict[str_df_key].loc[len(df_dict[str_df_key])] = [int(batch_MRT), int(step_MRT)] + row_data + [int(action), reward, int(done)]\n",
        "\n",
        "          if np.all(done_list): break\n",
        "\n",
        "    # clean DataFrame\n",
        "    str_keys = list(df_dict.keys())\n",
        "    df_all = df_dict[str_keys[0]]\n",
        "    df_all = df_all.astype({'batch':int,'step':int,'action':int,'done':int})\n",
        "    for var in CHOSEN_OBS_NAMES:\n",
        "      if var in ['C','L','A','B']: df_all[var] = df_all[var].astype(int)\n",
        "\n",
        "  # merge new data if needed\n",
        "  if b_insert_new_data:\n",
        "    df_all = pd.concat([df_all, df_new], axis=0, ignore_index=True)\n",
        "\n",
        "  # group by arm\n",
        "  unique_actions = df_all[\"action\"].unique()\n",
        "  df_per_a = df_all.groupby(['action'])\n",
        "  Data = {arm: (df_per_a.get_group(arm) if arm in unique_actions else np.array([])) for arm in range(N_ARMS)}\n",
        "\n",
        "  # setup BLR priors\n",
        "  n_arms = N_ARMS; agent_seed = 0; input_dims = len(CHOSEN_OBS_NAMES)\n",
        "  PRIOR_COEFF_MU_b = float(default_COEFF_MU_b)\n",
        "  PRIOR_COEFF_MU_w = np.ones(input_dims)*default_COEFF_MU_w\n",
        "  PRIOR_COEFF_SIGMA = np.eye(input_dims+1)*default_COEFF_SIGMA\n",
        "  prior_coeff_mu_b = {arm: PRIOR_COEFF_MU_b for arm in range(n_arms)}\n",
        "  prior_coeff_mu_w = {arm: PRIOR_COEFF_MU_w for arm in range(n_arms)}\n",
        "  prior_coeff_sigma = {arm: PRIOR_COEFF_SIGMA for arm in range(n_arms)}\n",
        "\n",
        "  # init TS agent\n",
        "  chosen_agent = ThompsonSamplingBayesLRAgent(\n",
        "      n_arms=N_ARMS, seed=agent_seed, sigma_y=default_SIGMA_Y, beta_coeffs=None,\n",
        "      prior_coeff_mu_b=prior_coeff_mu_b, prior_coeff_mu_w=prior_coeff_mu_w,\n",
        "      prior_coeff_sigma=prior_coeff_sigma, bo_params=None, max_beta=None, chosen_beta_a=-1)\n",
        "\n",
        "  # update posteriors per arm\n",
        "  for arm in range(N_ARMS):\n",
        "    prev_mu = chosen_agent.post_coeff_mu_dict[arm]\n",
        "    prev_sigma = chosen_agent.post_coeff_sigma_dict[arm]\n",
        "    prev_sigma_inv = np.linalg.inv(chosen_agent.previous_post_coeff_sigma)\n",
        "    if arm in unique_actions:\n",
        "      X = Data[arm][CHOSEN_OBS_NAMES].assign(intercept=1.)\n",
        "      X = X[['intercept']+list(CHOSEN_OBS_NAMES)].values\n",
        "      Y = Data[arm]['reward'].values\n",
        "      chosen_agent.post_coeff_mu_dict[arm], chosen_agent.post_coeff_sigma_dict[arm] = \\\n",
        "          chosen_agent.calculate_posterior_mean_sigma(chosen_agent.sigma_y, prev_mu, prev_sigma_inv, X, Y)\n",
        "\n",
        "  # collect TS priors\n",
        "  np_TS_mean = np.array([chosen_agent.post_coeff_mu_dict[arm] for arm in range(N_ARMS)])\n",
        "  np_TS_cov  = np.array([chosen_agent.post_coeff_sigma_dict[arm] for arm in range(N_ARMS)])\n",
        "\n",
        "  # save priors\n",
        "  outfile = output_folder+'/npz_TS_prior_mean_exact_env{}_{}_TS{}.npz'.format(CHOSEN_n_version, ''.join(CHOSEN_OBS_NAMES), TS_update_version)\n",
        "  np.savez(outfile, mean=np_TS_mean)\n",
        "  outfile = output_folder+'/npz_TS_prior_cov_exact_env{}_{}_TS{}.npz'.format(CHOSEN_n_version, ''.join(CHOSEN_OBS_NAMES), TS_update_version)\n",
        "  np.savez(outfile, cov_matrix=np_TS_cov)\n",
        "\n",
        "  return df_all, np_TS_mean, np_TS_cov"
      ],
      "metadata": {
        "id": "nNEQM4gu2BP3"
      },
      "execution_count": 14,
      "outputs": []
    },
    {
      "cell_type": "markdown",
      "source": [
        "# Configure"
      ],
      "metadata": {
        "id": "kgxucegzpU9s"
      }
    },
    {
      "cell_type": "code",
      "execution_count": 15,
      "metadata": {
        "id": "700Is7A7161W"
      },
      "outputs": [],
      "source": [
        "# Experiment setup\n",
        "# BO_PARAMS can be: 'betas3'=[b1,b2,b3], 'betas3 sigmaYs1'=[b1,b2,b3,sY], 'betas3 sigmaYs4'=[b1,b2,b3,sY0..sY3], None=RL\n",
        "# TS versions can be: A=Fixed prior (set b_version_B to False), B=Updated prior (set b_version_B to True)\n",
        "b_version_B = True\n",
        "BO_PARAMS = 'betas3'\n",
        "ROUNDS = 120; BATCH_SIZE = 1; TRIALS = 5\n",
        "\n",
        "N_MRT = 10; N_INIT = 10; CHOSEN_TS_MAX_BETA = -100.\n",
        "BO_BETA_MIN = 0.; BO_BETA_MAX = 1.; STEPS = 50; N_ARMS = 4\n",
        "ROUNDS = ROUNDS+2  # adjust rounds\n",
        "fig_size=(4,3.2); y_lim=(0,3500)\n",
        "\n",
        "# Env params\n",
        "CHOSEN_n_version = 0; CHOSEN_OBS_NAMES = ['C','H','D']; CHOSEN_env_sigma = .6\n",
        "CHOSEN_δh=0.1; CHOSEN_εh=0.05; CHOSEN_δd=0.1; CHOSEN_εd=0.4; D_threshold=0.99\n",
        "input_dims = len(CHOSEN_OBS_NAMES)\n",
        "\n",
        "# Default TS priors\n",
        "default_COEFF_MU_w = 0.; default_COEFF_MU_b = 0.\n",
        "default_COEFF_SIGMA = 100.; default_SIGMA_Y = 25\n",
        "SIGMA_Y = float(default_SIGMA_Y) # Noise σy\n",
        "if BO_PARAMS is not None and BO_PARAMS.find('sigmaYs4') >= 0:\n",
        "  SIGMA_Y = [float(default_SIGMA_Y) for _ in range(N_ARMS)]\n",
        "PRIOR_COEFF_MU_b = float(default_COEFF_MU_b)\n",
        "PRIOR_COEFF_MU_w = np.ones(input_dims)*default_COEFF_MU_w\n",
        "PRIOR_COEFF_SIGMA = np.eye(input_dims+1)*default_COEFF_SIGMA\n",
        "default_TS_settings = {\n",
        "  'sigma_y': SIGMA_Y, 'coeff_mu_w': default_COEFF_MU_w,\n",
        "  'coeff_mu_b': default_COEFF_MU_b, 'coeff_sigma': default_COEFF_SIGMA,\n",
        "  'prior_coeff_mu_w': PRIOR_COEFF_MU_w, 'prior_coeff_mu_b': PRIOR_COEFF_MU_b,\n",
        "  'prior_coeff_sigma': PRIOR_COEFF_SIGMA, 'max_beta': CHOSEN_TS_MAX_BETA\n",
        "}\n",
        "\n",
        "# Experiment settings dict\n",
        "experiment_settings = {\n",
        "  'chosen_BO_PARAMS': BO_PARAMS, 'chosen_TRIALS': TRIALS,\n",
        "  'chosen_ROUNDS': ROUNDS, 'chosen_BATCH_SIZE': BATCH_SIZE,\n",
        "  'chosen_STEPS': STEPS, 'chosen_N_INIT': N_INIT,\n",
        "  'chosen_n_version': CHOSEN_n_version, 'chosen_obs_names': CHOSEN_OBS_NAMES,\n",
        "  'b_update_stdout': False\n",
        "}\n",
        "experiment_settings_plot = experiment_settings.copy()\n",
        "experiment_settings['np_TS_mean'] = None; experiment_settings['np_TS_cov'] = None\n",
        "experiment_settings['chosen_N_MRT'] = N_MRT\n",
        "experiment_settings['chosen_BO_PARAMS'] = BO_PARAMS  # store chosen BO params\n",
        "\n",
        "# Output setup\n",
        "output_folder = 'output'\n",
        "if not os.path.exists(output_folder): os.makedirs(output_folder)\n",
        "str_CHOSEN_OBS_NAMES = ''.join(CHOSEN_OBS_NAMES)\n",
        "TS_update_version = 'B' if b_version_B else 'A'\n",
        "output_detail = 'T{}_R{}_B{}_env{}_TS{}'.format(TRIALS, ROUNDS, BATCH_SIZE, CHOSEN_n_version, TS_update_version)\n",
        "device = torch.device(\"cuda\" if torch.cuda.is_available() else \"cpu\")\n",
        "dtype = torch.double\n",
        "NUM_RESTARTS = 20\n",
        "RAW_SAMPLES = 256\n",
        "SIGMA_Y_MIN = 0.1; SIGMA_Y_MAX = 50.   # σy bounds\n",
        "MU_MIN = -200.; MU_MAX = 200.          # μ bounds\n",
        "U_DIAG_MIN = 0.1; U_DIAG_MAX = 10.     # diag(U) bounds\n",
        "U_TOP_MIN  = -10.; U_TOP_MAX  = 10.    # off-diag(U) bounds\n",
        "\n",
        "# Get x_dim and x_bounds (normalized bounds)\n",
        "setting_name = BO_PARAMS\n",
        "x_dim, x_bounds = get_x_bounds(  # param space bounds\n",
        "  BO_PARAMS, BO_BETA_MIN, BO_BETA_MAX,\n",
        "  SIGMA_Y_MIN, SIGMA_Y_MAX, MU_MIN, MU_MAX,\n",
        "  U_DIAG_MIN, U_DIAG_MAX, U_TOP_MIN, U_TOP_MAX,\n",
        "  device, dtype\n",
        ")\n",
        "x_bounds_NORMALIZED = torch.stack([\n",
        "  torch.zeros(x_dim, dtype=dtype, device=device),\n",
        "  torch.ones(x_dim, dtype=dtype, device=device)\n",
        "])"
      ]
    },
    {
      "cell_type": "markdown",
      "metadata": {
        "id": "trAcoaGHnEbj"
      },
      "source": [
        "# Run MRT"
      ]
    },
    {
      "cell_type": "code",
      "execution_count": 16,
      "metadata": {
        "id": "qIPY8WYlnJkE",
        "colab": {
          "base_uri": "https://localhost:8080/"
        },
        "outputId": "6edc06b9-c54e-4522-8596-7b8e19dc4502"
      },
      "outputs": [
        {
          "output_type": "stream",
          "name": "stdout",
          "text": [
            "MRT start MRT experiment T1 R1 B10 N_MRT=10 CHD...\n"
          ]
        }
      ],
      "source": [
        "# Run MRT to obtain new Thompson Sampling priors\n",
        "df_MRT, np_TS_mean, np_TS_cov = get_new_TS_priors_using_MRT(\n",
        "    b_new_MRT=True,          # flag to generate new MRT data\n",
        "    df_all=None,             # no existing data provided\n",
        "    b_insert_new_data=False, # do not insert new data\n",
        "    str_info='MRT'           # info string for logging\n",
        ")\n",
        "\n",
        "# Update experiment settings with new TS priors\n",
        "experiment_settings['np_TS_mean'] = np_TS_mean\n",
        "experiment_settings['np_TS_cov'] = np_TS_cov"
      ]
    },
    {
      "cell_type": "markdown",
      "source": [
        "# Run BOTS"
      ],
      "metadata": {
        "id": "ZOYPnZBWxm80"
      }
    },
    {
      "cell_type": "code",
      "execution_count": 17,
      "metadata": {
        "id": "TVF6MHPSrpFF",
        "colab": {
          "base_uri": "https://localhost:8080/",
          "height": 434
        },
        "outputId": "4955bc6a-cde9-40a5-ad39-9b3e57dff5c0"
      },
      "outputs": [
        {
          "output_type": "stream",
          "name": "stdout",
          "text": [
            "running TuRBO-TS experiments (trials=5 TRB=T5 R122 B1)...\n",
            "finished TuRBO-TS CHD env0 (betas3) trial0 duration = 61.0 sec\n",
            "finished TuRBO-TS CHD env0 (betas3) trial1 duration = 53.8 sec\n",
            "finished TuRBO-TS CHD env0 (betas3) trial2 duration = 52.0 sec\n",
            "finished TuRBO-TS CHD env0 (betas3) trial3 duration = 51.1 sec\n",
            "finished TuRBO-TS CHD env0 (betas3) trial4 duration = 54.2 sec\n"
          ]
        },
        {
          "output_type": "display_data",
          "data": {
            "text/plain": [
              "<Figure size 400x320 with 1 Axes>"
            ],
            "image/png": "[encoded data removed]"
          },
          "metadata": {}
        }
      ],
      "source": [
        "agent_name = 'TuRBO-TS'   # set agent name\n",
        "result_experiment_TuRBO_TS, B_schedule = run_experiment(agent_name, **experiment_settings)  # run experiment\n",
        "plot_batch_results(  # plot results\n",
        "    agent_name, result_experiment_TuRBO_TS, output_detail, output_folder,\n",
        "    **experiment_settings_plot,\n",
        "    plot_title_detail=BO_PARAMS, chosen_B_schedule=B_schedule,\n",
        "    fig_size=fig_size, y_lim=y_lim\n",
        ")"
      ]
    },
    {
      "cell_type": "markdown",
      "source": [
        "# Run standard TS"
      ],
      "metadata": {
        "id": "oFn-9jgmrEBF"
      }
    },
    {
      "cell_type": "code",
      "execution_count": 18,
      "metadata": {
        "id": "cyCShvddah09",
        "colab": {
          "base_uri": "https://localhost:8080/",
          "height": 434
        },
        "outputId": "34e6bd5e-5676-4b1d-e5a1-68db977398bc"
      },
      "outputs": [
        {
          "output_type": "stream",
          "name": "stdout",
          "text": [
            "running TS_prior experiments (trials=5 TRB=T5 R122 B1)...\n",
            "finished TS_prior CHD env0 (betas3) trial0 duration = 19.5 sec\n",
            "finished TS_prior CHD env0 (betas3) trial1 duration = 17.3 sec\n",
            "finished TS_prior CHD env0 (betas3) trial2 duration = 17.1 sec\n",
            "finished TS_prior CHD env0 (betas3) trial3 duration = 18.1 sec\n",
            "finished TS_prior CHD env0 (betas3) trial4 duration = 16.8 sec\n"
          ]
        },
        {
          "output_type": "display_data",
          "data": {
            "text/plain": [
              "<Figure size 400x320 with 1 Axes>"
            ],
            "image/png": "[encoded data removed]"
          },
          "metadata": {}
        }
      ],
      "source": [
        "# standard TS version using new prior from BLR\n",
        "experiment_settings['chosen_BO_PARAMS'] = None   # reset BO parameters\n",
        "agent_name = 'TS_prior'   # set agent name\n",
        "result_experiment_TS_prior, B_schedule = run_experiment(agent_name, **experiment_settings)  # run experiment\n",
        "plot_batch_results(  # plot results\n",
        "    agent_name, result_experiment_TS_prior, output_detail, output_folder,\n",
        "    **experiment_settings_plot,\n",
        "    chosen_B_schedule=B_schedule, fig_size=fig_size, y_lim=y_lim\n",
        ")"
      ]
    },
    {
      "cell_type": "code",
      "execution_count": 18,
      "metadata": {
        "id": "O0VA2wuMUxnw"
      },
      "outputs": [],
      "source": []
    }
  ],
  "metadata": {
    "anaconda-cloud": {},
    "colab": {
      "provenance": []
    },
    "gpuClass": "standard",
    "kernelspec": {
      "display_name": "Python 3",
      "language": "python",
      "name": "python3"
    },
    "language_info": {
      "codemirror_mode": {
        "name": "ipython",
        "version": 3
      },
      "file_extension": ".py",
      "mimetype": "text/x-python",
      "name": "python",
      "nbconvert_exporter": "python",
      "pygments_lexer": "ipython3",
      "version": "3.7.3"
    }
  },
  "nbformat": 4,
  "nbformat_minor": 0
}